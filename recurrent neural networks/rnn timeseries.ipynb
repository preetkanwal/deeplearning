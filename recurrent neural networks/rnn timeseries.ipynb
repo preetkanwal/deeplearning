{
 "cells": [
  {
   "cell_type": "code",
   "execution_count": 1,
   "metadata": {},
   "outputs": [],
   "source": [
    "import pandas as pd\n",
    "import numpy as np\n",
    "%matplotlib inline\n",
    "import matplotlib.pyplot as plt\n",
    "from sklearn.preprocessing import MinMaxScaler\n",
    "from sklearn.metrics import r2_score"
   ]
  },
  {
   "cell_type": "code",
   "execution_count": 2,
   "metadata": {},
   "outputs": [
    {
     "name": "stderr",
     "output_type": "stream",
     "text": [
      "Using TensorFlow backend.\n"
     ]
    }
   ],
   "source": [
    "from keras.models import Sequential\n",
    "from keras.layers import Dense\n",
    "import keras.backend as K\n",
    "from keras.callbacks import EarlyStopping\n",
    "from keras.optimizers import Adam\n",
    "from keras.models import load_model\n",
    "from keras.layers import LSTM"
   ]
  },
  {
   "cell_type": "code",
   "execution_count": 3,
   "metadata": {},
   "outputs": [],
   "source": [
    "def adj_r2_score(r2, n, k):\n",
    "    return 1-((1-r2)*((n-1)/(n-k-1)))"
   ]
  },
  {
   "cell_type": "code",
   "execution_count": null,
   "metadata": {},
   "outputs": [],
   "source": []
  },
  {
   "cell_type": "code",
   "execution_count": 4,
   "metadata": {},
   "outputs": [
    {
     "data": {
      "text/html": [
       "<div>\n",
       "<style scoped>\n",
       "    .dataframe tbody tr th:only-of-type {\n",
       "        vertical-align: middle;\n",
       "    }\n",
       "\n",
       "    .dataframe tbody tr th {\n",
       "        vertical-align: top;\n",
       "    }\n",
       "\n",
       "    .dataframe thead th {\n",
       "        text-align: right;\n",
       "    }\n",
       "</style>\n",
       "<table border=\"1\" class=\"dataframe\">\n",
       "  <thead>\n",
       "    <tr style=\"text-align: right;\">\n",
       "      <th></th>\n",
       "      <th>count</th>\n",
       "    </tr>\n",
       "    <tr>\n",
       "      <th>Month</th>\n",
       "      <th></th>\n",
       "    </tr>\n",
       "  </thead>\n",
       "  <tbody>\n",
       "    <tr>\n",
       "      <th>1949-01-01</th>\n",
       "      <td>112</td>\n",
       "    </tr>\n",
       "    <tr>\n",
       "      <th>1949-02-01</th>\n",
       "      <td>118</td>\n",
       "    </tr>\n",
       "    <tr>\n",
       "      <th>1949-03-01</th>\n",
       "      <td>132</td>\n",
       "    </tr>\n",
       "    <tr>\n",
       "      <th>1949-04-01</th>\n",
       "      <td>129</td>\n",
       "    </tr>\n",
       "    <tr>\n",
       "      <th>1949-05-01</th>\n",
       "      <td>121</td>\n",
       "    </tr>\n",
       "  </tbody>\n",
       "</table>\n",
       "</div>"
      ],
      "text/plain": [
       "            count\n",
       "Month            \n",
       "1949-01-01    112\n",
       "1949-02-01    118\n",
       "1949-03-01    132\n",
       "1949-04-01    129\n",
       "1949-05-01    121"
      ]
     },
     "execution_count": 4,
     "metadata": {},
     "output_type": "execute_result"
    }
   ],
   "source": [
    "passengers = pd.read_csv('air_passengers.csv', index_col='Month')\n",
    "passengers.index = pd.to_datetime(passengers.index, format = '%Y-%m')\n",
    "passengers.head()"
   ]
  },
  {
   "cell_type": "code",
   "execution_count": 5,
   "metadata": {},
   "outputs": [],
   "source": [
    "split_ratio = .75\n",
    "split_point = int(round(len(passengers) * split_ratio))\n",
    "train, test = passengers.iloc[:split_point,:], passengers.iloc[split_point:,:]"
   ]
  },
  {
   "cell_type": "code",
   "execution_count": 6,
   "metadata": {},
   "outputs": [],
   "source": [
    "scaler = MinMaxScaler()\n",
    "train_scaled = scaler.fit_transform(train)\n",
    "test_scaled = scaler.transform(test)"
   ]
  },
  {
   "cell_type": "code",
   "execution_count": 7,
   "metadata": {},
   "outputs": [],
   "source": [
    "X_tr_sc = train_scaled[:-1]\n",
    "y_tr_sc = train_scaled[1:]\n",
    "X_tst_sc = test_scaled[:-1]\n",
    "y_tst_sc = test_scaled[1:]"
   ]
  },
  {
   "cell_type": "code",
   "execution_count": 15,
   "metadata": {},
   "outputs": [
    {
     "data": {
      "text/plain": [
       "(107, 1)"
      ]
     },
     "execution_count": 15,
     "metadata": {},
     "output_type": "execute_result"
    }
   ],
   "source": [
    "X_tr_sc.shape"
   ]
  },
  {
   "cell_type": "code",
   "execution_count": 16,
   "metadata": {},
   "outputs": [],
   "source": [
    "X_tr_sc = X_tr_sc.reshape(X_tr_sc.shape[0], 1, X_tr_sc.shape[1])\n",
    "X_tst_sc = X_tst_sc.reshape(X_tst_sc.shape[0], 1, X_tst_sc.shape[1])"
   ]
  },
  {
   "cell_type": "code",
   "execution_count": 17,
   "metadata": {
    "scrolled": true
   },
   "outputs": [
    {
     "name": "stdout",
     "output_type": "stream",
     "text": [
      "Epoch 1/50\n",
      "107/107 [==============================] - 4s 36ms/step - loss: 0.0261\n",
      "Epoch 2/50\n",
      "107/107 [==============================] - 1s 5ms/step - loss: 0.0178\n",
      "Epoch 3/50\n",
      "107/107 [==============================] - 1s 5ms/step - loss: 0.0163\n",
      "Epoch 4/50\n",
      "107/107 [==============================] - 1s 5ms/step - loss: 0.0138\n",
      "Epoch 5/50\n",
      "107/107 [==============================] - 1s 5ms/step - loss: 0.0115\n",
      "Epoch 6/50\n",
      "107/107 [==============================] - 1s 5ms/step - loss: 0.0095\n",
      "Epoch 7/50\n",
      "107/107 [==============================] - 1s 5ms/step - loss: 0.0080\n",
      "Epoch 8/50\n",
      "107/107 [==============================] - 1s 5ms/step - loss: 0.0069\n",
      "Epoch 9/50\n",
      "107/107 [==============================] - 1s 6ms/step - loss: 0.0061\n",
      "Epoch 10/50\n",
      "107/107 [==============================] - 1s 6ms/step - loss: 0.0056\n",
      "Epoch 11/50\n",
      "107/107 [==============================] - 1s 6ms/step - loss: 0.0053\n",
      "Epoch 12/50\n",
      "107/107 [==============================] - 1s 6ms/step - loss: 0.0052\n",
      "Epoch 13/50\n",
      "107/107 [==============================] - 1s 5ms/step - loss: 0.0051\n",
      "Epoch 14/50\n",
      "107/107 [==============================] - 1s 5ms/step - loss: 0.0050\n",
      "Epoch 15/50\n",
      "107/107 [==============================] - 1s 5ms/step - loss: 0.0050\n",
      "Epoch 16/50\n",
      "107/107 [==============================] - 1s 5ms/step - loss: 0.0050\n",
      "Epoch 17/50\n",
      "107/107 [==============================] - 1s 6ms/step - loss: 0.0050\n",
      "Epoch 18/50\n",
      "107/107 [==============================] - 1s 5ms/step - loss: 0.0049\n",
      "Epoch 19/50\n",
      "107/107 [==============================] - 1s 6ms/step - loss: 0.0049\n",
      "Epoch 20/50\n",
      "107/107 [==============================] - 1s 5ms/step - loss: 0.0049\n",
      "Epoch 21/50\n",
      "107/107 [==============================] - 1s 6ms/step - loss: 0.0049\n",
      "Epoch 22/50\n",
      "107/107 [==============================] - 1s 5ms/step - loss: 0.0049\n",
      "Epoch 23/50\n",
      "107/107 [==============================] - 1s 6ms/step - loss: 0.0049\n",
      "Epoch 24/50\n",
      "107/107 [==============================] - 1s 6ms/step - loss: 0.0049\n",
      "Epoch 25/50\n",
      "107/107 [==============================] - 1s 5ms/step - loss: 0.0049\n",
      "Epoch 26/50\n",
      "107/107 [==============================] - 1s 5ms/step - loss: 0.0049\n",
      "Epoch 27/50\n",
      "107/107 [==============================] - 1s 5ms/step - loss: 0.0049\n",
      "Epoch 28/50\n",
      "107/107 [==============================] - 1s 6ms/step - loss: 0.0049\n",
      "Epoch 29/50\n",
      "107/107 [==============================] - 1s 6ms/step - loss: 0.0049\n",
      "Epoch 30/50\n",
      "107/107 [==============================] - 1s 5ms/step - loss: 0.0049\n",
      "Epoch 31/50\n",
      "107/107 [==============================] - 1s 6ms/step - loss: 0.0049\n",
      "Epoch 32/50\n",
      "107/107 [==============================] - 1s 5ms/step - loss: 0.0049\n",
      "Epoch 33/50\n",
      "107/107 [==============================] - 1s 5ms/step - loss: 0.0049\n",
      "Epoch 34/50\n",
      "107/107 [==============================] - 1s 5ms/step - loss: 0.0049\n",
      "Epoch 35/50\n",
      "107/107 [==============================] - 1s 5ms/step - loss: 0.0049\n",
      "Epoch 36/50\n",
      "107/107 [==============================] - 1s 5ms/step - loss: 0.0049\n",
      "Epoch 37/50\n",
      "107/107 [==============================] - 1s 5ms/step - loss: 0.0049\n",
      "Epoch 38/50\n",
      "107/107 [==============================] - 1s 5ms/step - loss: 0.0049\n",
      "Epoch 39/50\n",
      "107/107 [==============================] - 1s 5ms/step - loss: 0.0049\n",
      "Epoch 40/50\n",
      "107/107 [==============================] - 1s 5ms/step - loss: 0.0049\n",
      "Epoch 41/50\n",
      "107/107 [==============================] - 1s 5ms/step - loss: 0.0049\n",
      "Epoch 42/50\n",
      "107/107 [==============================] - 1s 5ms/step - loss: 0.0049\n",
      "Epoch 43/50\n",
      "107/107 [==============================] - 1s 5ms/step - loss: 0.0049\n",
      "Epoch 44/50\n",
      "107/107 [==============================] - 1s 5ms/step - loss: 0.0049\n",
      "Epoch 45/50\n",
      "107/107 [==============================] - 1s 5ms/step - loss: 0.0049\n",
      "Epoch 46/50\n",
      "107/107 [==============================] - 1s 5ms/step - loss: 0.0049\n",
      "Epoch 47/50\n",
      "107/107 [==============================] - 1s 6ms/step - loss: 0.0049\n",
      "Epoch 48/50\n",
      "107/107 [==============================] - 1s 5ms/step - loss: 0.0049\n",
      "Epoch 49/50\n",
      "107/107 [==============================] - 1s 5ms/step - loss: 0.0049\n",
      "Epoch 50/50\n",
      "107/107 [==============================] - 1s 5ms/step - loss: 0.0049\n",
      "R2 score on the Train set:\t0.911\n",
      "Adjusted R2 score on the Train set:\t0.910\n",
      "\n",
      "R2 score on the Test set:\t0.592\n",
      "Adjusted R2 score on the Test set:\t0.580\n"
     ]
    }
   ],
   "source": [
    "K.clear_session()\n",
    "model_lstm = Sequential()\n",
    "model_lstm.add(LSTM(7, input_shape=(1, X_tr_sc.shape[1]), activation='relu', kernel_initializer='lecun_uniform', return_sequences=False))\n",
    "model_lstm.add(Dense(1))\n",
    "model_lstm.compile(loss='mean_squared_error', optimizer='adam')\n",
    "early_stop = EarlyStopping(monitor='loss', patience=5, verbose=1)\n",
    "history_model_lstm = model_lstm.fit(X_tr_sc, y_tr_sc, epochs=50, batch_size=1, verbose=1, shuffle=False, callbacks=[early_stop])\n",
    "\n",
    "test_pred_sc = model_lstm.predict(X_tst_sc)\n",
    "train_pred_sc = model_lstm.predict(X_tr_sc)\n",
    "\n",
    "print(\"R2 score on the Train set:\\t{:0.3f}\".format(r2_score(y_tr_sc, train_pred_sc)))\n",
    "r2_train = r2_score(y_tr_sc, train_pred_sc)\n",
    "\n",
    "print(\"Adjusted R2 score on the Train set:\\t{:0.3f}\\n\".format(adj_r2_score(r2_train, X_tr_sc.shape[0], X_tr_sc.shape[1])))\n",
    "\n",
    "print(\"R2 score on the Test set:\\t{:0.3f}\".format(r2_score(y_tst_sc, test_pred_sc)))\n",
    "r2_test = r2_score(y_tst_sc, test_pred_sc)\n",
    "\n",
    "print(\"Adjusted R2 score on the Test set:\\t{:0.3f}\".format(adj_r2_score(r2_test, X_tst_sc.shape[0], X_tst_sc.shape[1])))\n"
   ]
  },
  {
   "cell_type": "code",
   "execution_count": 18,
   "metadata": {},
   "outputs": [],
   "source": [
    "model_lstm.save('LSTM_NonShift.h5')"
   ]
  },
  {
   "cell_type": "code",
   "execution_count": 19,
   "metadata": {},
   "outputs": [
    {
     "name": "stdout",
     "output_type": "stream",
     "text": [
      "35/35 [==============================] - 0s 4ms/step\n"
     ]
    }
   ],
   "source": [
    "score_lstm= model_lstm.evaluate(X_tst_sc, y_tst_sc, batch_size=1)"
   ]
  },
  {
   "cell_type": "code",
   "execution_count": 20,
   "metadata": {},
   "outputs": [
    {
     "name": "stdout",
     "output_type": "stream",
     "text": [
      "LSTM: 0.018773\n"
     ]
    }
   ],
   "source": [
    "print('LSTM: %f'%score_lstm)"
   ]
  },
  {
   "cell_type": "code",
   "execution_count": 21,
   "metadata": {},
   "outputs": [],
   "source": [
    "test_pred_sc = model_lstm.predict(X_tst_sc)"
   ]
  },
  {
   "cell_type": "code",
   "execution_count": null,
   "metadata": {},
   "outputs": [],
   "source": [
    "plt.plot(y_tst_sc, label='Actual')\n",
    "plt.plot(test_pred_sc, label='Predicted')\n",
    "plt.title(\"LSTM's_Prediction (scaled)\")\n",
    "plt.xlabel('Observation')\n",
    "plt.ylabel('Scaled values')\n",
    "plt.legend()\n",
    "plt.show()"
   ]
  },
  {
   "cell_type": "code",
   "execution_count": 21,
   "metadata": {},
   "outputs": [],
   "source": [
    "test_pred = scaler.inverse_transform(test_pred_sc)\n",
    "y_test = test[1:]"
   ]
  },
  {
   "cell_type": "code",
   "execution_count": 23,
   "metadata": {},
   "outputs": [],
   "source": [
    "test_pred = test_pred.ravel()"
   ]
  },
  {
   "cell_type": "code",
   "execution_count": 24,
   "metadata": {},
   "outputs": [],
   "source": [
    "test_pred = pd.Series(test_pred)"
   ]
  },
  {
   "cell_type": "code",
   "execution_count": 25,
   "metadata": {},
   "outputs": [],
   "source": [
    "test_pred.index = test.index[1:]"
   ]
  },
  {
   "cell_type": "code",
   "execution_count": 45,
   "metadata": {},
   "outputs": [
    {
     "data": {
      "text/plain": [
       "Text(0.5,1,'RMSE: 51.1164')"
      ]
     },
     "execution_count": 45,
     "metadata": {},
     "output_type": "execute_result"
    },
    {
     "data": {
      "image/png": "[encoded data removed]",
      "text/plain": [
       "<Figure size 864x288 with 1 Axes>"
      ]
     },
     "metadata": {},
     "output_type": "display_data"
    }
   ],
   "source": [
    "plt.figure(figsize=(12, 4))\n",
    "plt.plot(passengers, 'b')\n",
    "plt.plot(test_pred, 'r')\n",
    "\n",
    "plt.title('RMSE: %.4f'% np.sqrt(sum((test_pred.values - y_test['count'].values)**2)/len(y_test)))\n"
   ]
  },
  {
   "cell_type": "code",
   "execution_count": 36,
   "metadata": {},
   "outputs": [
    {
     "data": {
      "text/plain": [
       "array([339.16614, 317.3619 , 361.20963, 347.15598, 362.2168 , 435.66125,\n",
       "       493.5893 , 508.1115 , 403.84122, 358.19083, 309.49872, 336.17804,\n",
       "       359.1967 , 341.1607 , 405.8863 , 395.673  , 420.23392, 473.89465,\n",
       "       552.6771 , 564.04803, 464.5765 , 406.9093 , 361.20963, 404.86362,\n",
       "       417.1549 , 390.57837, 419.2073 , 462.50723, 473.89465, 539.2185 ,\n",
       "       613.0009 , 603.1082 , 511.2237 , 462.50723, 389.56052],\n",
       "      dtype=float32)"
      ]
     },
     "execution_count": 36,
     "metadata": {},
     "output_type": "execute_result"
    }
   ],
   "source": [
    "test_pred.values"
   ]
  },
  {
   "cell_type": "code",
   "execution_count": 42,
   "metadata": {},
   "outputs": [
    {
     "data": {
      "text/plain": [
       "array([318, 362, 348, 363, 435, 491, 505, 404, 359, 310, 337, 360, 342,\n",
       "       406, 396, 420, 472, 548, 559, 463, 407, 362, 405, 417, 391, 419,\n",
       "       461, 472, 535, 622, 606, 508, 461, 390, 432])"
      ]
     },
     "execution_count": 42,
     "metadata": {},
     "output_type": "execute_result"
    }
   ],
   "source": [
    "y_test['count'].values"
   ]
  },
  {
   "cell_type": "code",
   "execution_count": 34,
   "metadata": {},
   "outputs": [
    {
     "data": {
      "text/plain": [
       "35"
      ]
     },
     "execution_count": 34,
     "metadata": {},
     "output_type": "execute_result"
    }
   ],
   "source": [
    "len(test_pred.values -y_test.values)"
   ]
  },
  {
   "cell_type": "code",
   "execution_count": 43,
   "metadata": {},
   "outputs": [
    {
     "data": {
      "text/plain": [
       "91451.03758816328"
      ]
     },
     "execution_count": 43,
     "metadata": {},
     "output_type": "execute_result"
    }
   ],
   "source": [
    "sum((test_pred.values - y_test['count'].values)**2)"
   ]
  },
  {
   "cell_type": "code",
   "execution_count": 44,
   "metadata": {},
   "outputs": [
    {
     "data": {
      "text/plain": [
       "51.11640429679338"
      ]
     },
     "execution_count": 44,
     "metadata": {},
     "output_type": "execute_result"
    }
   ],
   "source": []
  },
  {
   "cell_type": "code",
   "execution_count": 29,
   "metadata": {},
   "outputs": [
    {
     "data": {
      "text/html": [
       "<div>\n",
       "<style scoped>\n",
       "    .dataframe tbody tr th:only-of-type {\n",
       "        vertical-align: middle;\n",
       "    }\n",
       "\n",
       "    .dataframe tbody tr th {\n",
       "        vertical-align: top;\n",
       "    }\n",
       "\n",
       "    .dataframe thead th {\n",
       "        text-align: right;\n",
       "    }\n",
       "</style>\n",
       "<table border=\"1\" class=\"dataframe\">\n",
       "  <thead>\n",
       "    <tr style=\"text-align: right;\">\n",
       "      <th></th>\n",
       "      <th>count</th>\n",
       "    </tr>\n",
       "    <tr>\n",
       "      <th>Month</th>\n",
       "      <th></th>\n",
       "    </tr>\n",
       "  </thead>\n",
       "  <tbody>\n",
       "    <tr>\n",
       "      <th>1958-02-01</th>\n",
       "      <td>318</td>\n",
       "    </tr>\n",
       "    <tr>\n",
       "      <th>1958-03-01</th>\n",
       "      <td>362</td>\n",
       "    </tr>\n",
       "    <tr>\n",
       "      <th>1958-04-01</th>\n",
       "      <td>348</td>\n",
       "    </tr>\n",
       "    <tr>\n",
       "      <th>1958-05-01</th>\n",
       "      <td>363</td>\n",
       "    </tr>\n",
       "    <tr>\n",
       "      <th>1958-06-01</th>\n",
       "      <td>435</td>\n",
       "    </tr>\n",
       "  </tbody>\n",
       "</table>\n",
       "</div>"
      ],
      "text/plain": [
       "            count\n",
       "Month            \n",
       "1958-02-01    318\n",
       "1958-03-01    362\n",
       "1958-04-01    348\n",
       "1958-05-01    363\n",
       "1958-06-01    435"
      ]
     },
     "execution_count": 29,
     "metadata": {},
     "output_type": "execute_result"
    }
   ],
   "source": [
    "y_test.head()"
   ]
  },
  {
   "cell_type": "code",
   "execution_count": 28,
   "metadata": {},
   "outputs": [
    {
     "data": {
      "text/plain": [
       "Month\n",
       "1958-02-01    339.166138\n",
       "1958-03-01    317.361908\n",
       "1958-04-01    361.209625\n",
       "1958-05-01    347.155975\n",
       "1958-06-01    362.216797\n",
       "dtype: float32"
      ]
     },
     "execution_count": 28,
     "metadata": {},
     "output_type": "execute_result"
    }
   ],
   "source": [
    "test_pred.head()"
   ]
  },
  {
   "cell_type": "code",
   "execution_count": 29,
   "metadata": {},
   "outputs": [
    {
     "data": {
      "text/html": [
       "<div>\n",
       "<style scoped>\n",
       "    .dataframe tbody tr th:only-of-type {\n",
       "        vertical-align: middle;\n",
       "    }\n",
       "\n",
       "    .dataframe tbody tr th {\n",
       "        vertical-align: top;\n",
       "    }\n",
       "\n",
       "    .dataframe thead th {\n",
       "        text-align: right;\n",
       "    }\n",
       "</style>\n",
       "<table border=\"1\" class=\"dataframe\">\n",
       "  <thead>\n",
       "    <tr style=\"text-align: right;\">\n",
       "      <th></th>\n",
       "      <th>count</th>\n",
       "    </tr>\n",
       "    <tr>\n",
       "      <th>Month</th>\n",
       "      <th></th>\n",
       "    </tr>\n",
       "  </thead>\n",
       "  <tbody>\n",
       "    <tr>\n",
       "      <th>1958-02-01</th>\n",
       "      <td>318</td>\n",
       "    </tr>\n",
       "    <tr>\n",
       "      <th>1958-03-01</th>\n",
       "      <td>362</td>\n",
       "    </tr>\n",
       "    <tr>\n",
       "      <th>1958-04-01</th>\n",
       "      <td>348</td>\n",
       "    </tr>\n",
       "    <tr>\n",
       "      <th>1958-05-01</th>\n",
       "      <td>363</td>\n",
       "    </tr>\n",
       "    <tr>\n",
       "      <th>1958-06-01</th>\n",
       "      <td>435</td>\n",
       "    </tr>\n",
       "    <tr>\n",
       "      <th>1958-07-01</th>\n",
       "      <td>491</td>\n",
       "    </tr>\n",
       "    <tr>\n",
       "      <th>1958-08-01</th>\n",
       "      <td>505</td>\n",
       "    </tr>\n",
       "    <tr>\n",
       "      <th>1958-09-01</th>\n",
       "      <td>404</td>\n",
       "    </tr>\n",
       "    <tr>\n",
       "      <th>1958-10-01</th>\n",
       "      <td>359</td>\n",
       "    </tr>\n",
       "    <tr>\n",
       "      <th>1958-11-01</th>\n",
       "      <td>310</td>\n",
       "    </tr>\n",
       "    <tr>\n",
       "      <th>1958-12-01</th>\n",
       "      <td>337</td>\n",
       "    </tr>\n",
       "    <tr>\n",
       "      <th>1959-01-01</th>\n",
       "      <td>360</td>\n",
       "    </tr>\n",
       "    <tr>\n",
       "      <th>1959-02-01</th>\n",
       "      <td>342</td>\n",
       "    </tr>\n",
       "    <tr>\n",
       "      <th>1959-03-01</th>\n",
       "      <td>406</td>\n",
       "    </tr>\n",
       "    <tr>\n",
       "      <th>1959-04-01</th>\n",
       "      <td>396</td>\n",
       "    </tr>\n",
       "    <tr>\n",
       "      <th>1959-05-01</th>\n",
       "      <td>420</td>\n",
       "    </tr>\n",
       "    <tr>\n",
       "      <th>1959-06-01</th>\n",
       "      <td>472</td>\n",
       "    </tr>\n",
       "    <tr>\n",
       "      <th>1959-07-01</th>\n",
       "      <td>548</td>\n",
       "    </tr>\n",
       "    <tr>\n",
       "      <th>1959-08-01</th>\n",
       "      <td>559</td>\n",
       "    </tr>\n",
       "    <tr>\n",
       "      <th>1959-09-01</th>\n",
       "      <td>463</td>\n",
       "    </tr>\n",
       "    <tr>\n",
       "      <th>1959-10-01</th>\n",
       "      <td>407</td>\n",
       "    </tr>\n",
       "    <tr>\n",
       "      <th>1959-11-01</th>\n",
       "      <td>362</td>\n",
       "    </tr>\n",
       "    <tr>\n",
       "      <th>1959-12-01</th>\n",
       "      <td>405</td>\n",
       "    </tr>\n",
       "    <tr>\n",
       "      <th>1960-01-01</th>\n",
       "      <td>417</td>\n",
       "    </tr>\n",
       "    <tr>\n",
       "      <th>1960-02-01</th>\n",
       "      <td>391</td>\n",
       "    </tr>\n",
       "    <tr>\n",
       "      <th>1960-03-01</th>\n",
       "      <td>419</td>\n",
       "    </tr>\n",
       "    <tr>\n",
       "      <th>1960-04-01</th>\n",
       "      <td>461</td>\n",
       "    </tr>\n",
       "    <tr>\n",
       "      <th>1960-05-01</th>\n",
       "      <td>472</td>\n",
       "    </tr>\n",
       "    <tr>\n",
       "      <th>1960-06-01</th>\n",
       "      <td>535</td>\n",
       "    </tr>\n",
       "    <tr>\n",
       "      <th>1960-07-01</th>\n",
       "      <td>622</td>\n",
       "    </tr>\n",
       "    <tr>\n",
       "      <th>1960-08-01</th>\n",
       "      <td>606</td>\n",
       "    </tr>\n",
       "    <tr>\n",
       "      <th>1960-09-01</th>\n",
       "      <td>508</td>\n",
       "    </tr>\n",
       "    <tr>\n",
       "      <th>1960-10-01</th>\n",
       "      <td>461</td>\n",
       "    </tr>\n",
       "    <tr>\n",
       "      <th>1960-11-01</th>\n",
       "      <td>390</td>\n",
       "    </tr>\n",
       "    <tr>\n",
       "      <th>1960-12-01</th>\n",
       "      <td>432</td>\n",
       "    </tr>\n",
       "  </tbody>\n",
       "</table>\n",
       "</div>"
      ],
      "text/plain": [
       "            count\n",
       "Month            \n",
       "1958-02-01    318\n",
       "1958-03-01    362\n",
       "1958-04-01    348\n",
       "1958-05-01    363\n",
       "1958-06-01    435\n",
       "1958-07-01    491\n",
       "1958-08-01    505\n",
       "1958-09-01    404\n",
       "1958-10-01    359\n",
       "1958-11-01    310\n",
       "1958-12-01    337\n",
       "1959-01-01    360\n",
       "1959-02-01    342\n",
       "1959-03-01    406\n",
       "1959-04-01    396\n",
       "1959-05-01    420\n",
       "1959-06-01    472\n",
       "1959-07-01    548\n",
       "1959-08-01    559\n",
       "1959-09-01    463\n",
       "1959-10-01    407\n",
       "1959-11-01    362\n",
       "1959-12-01    405\n",
       "1960-01-01    417\n",
       "1960-02-01    391\n",
       "1960-03-01    419\n",
       "1960-04-01    461\n",
       "1960-05-01    472\n",
       "1960-06-01    535\n",
       "1960-07-01    622\n",
       "1960-08-01    606\n",
       "1960-09-01    508\n",
       "1960-10-01    461\n",
       "1960-11-01    390\n",
       "1960-12-01    432"
      ]
     },
     "execution_count": 29,
     "metadata": {},
     "output_type": "execute_result"
    }
   ],
   "source": [
    "test[1:]"
   ]
  },
  {
   "cell_type": "code",
   "execution_count": null,
   "metadata": {},
   "outputs": [],
   "source": []
  }
 ],
 "metadata": {
  "kernelspec": {
   "display_name": "Python 3",
   "language": "python",
   "name": "python3"
  },
  "language_info": {
   "codemirror_mode": {
    "name": "ipython",
    "version": 3
   },
   "file_extension": ".py",
   "mimetype": "text/x-python",
   "name": "python",
   "nbconvert_exporter": "python",
   "pygments_lexer": "ipython3",
   "version": "3.6.6"
  }
 },
 "nbformat": 4,
 "nbformat_minor": 2
}
