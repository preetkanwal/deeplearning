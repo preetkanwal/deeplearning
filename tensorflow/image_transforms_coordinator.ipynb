{
 "cells": [
  {
   "cell_type": "code",
   "execution_count": null,
   "metadata": {},
   "outputs": [],
   "source": [
    "import tensorflow as tf\n",
    "import google.datalab.ml as ml"
   ]
  },
  {
   "cell_type": "code",
   "execution_count": null,
   "metadata": {},
   "outputs": [],
   "source": [
    "original_image_list = []"
   ]
  },
  {
   "cell_type": "code",
   "execution_count": null,
   "metadata": {},
   "outputs": [],
   "source": [
    "# Make a queue of file names including all the images specified.\n",
    "filename_queue = tf.train.string_input_producer(original_image_list)\n"
   ]
  },
  {
   "cell_type": "code",
   "execution_count": null,
   "metadata": {},
   "outputs": [],
   "source": [
    "# Read an entire image file.\n",
    "image_reader = tf.WholeFileReader()\n"
   ]
  },
  {
   "cell_type": "code",
   "execution_count": null,
   "metadata": {},
   "outputs": [],
   "source": [
    "with tf.Session() as sess:\n",
    "    # Coordinate the loading of image files.\n",
    "    coord = tf.train.Coordinator()\n",
    "    threads = tf.train.start_queue_runners(sess=sess, coord=coord)\n",
    "\n",
    "    image_list = [];\n",
    "    for i in range(len(original_image_list)):\n",
    "        # Read a whole file from the queue, the first returned value in the tuple is the\n",
    "        # filename which we are ignoring.\n",
    "        _, image_file = image_reader.read(filename_queue)\n",
    "\n",
    "        # Decode the image as a JPEG file, this will turn it into a Tensor which we can\n",
    "        # then use in training.\n",
    "        image = tf.image.decode_jpeg(image_file)\n",
    "\n",
    "        # Get a tensor of resized images.\n",
    "        image = tf.image.resize_images(image, [224, 224])\n",
    "        image.set_shape((224, 224, 3))\n",
    "\n",
    "        image = tf.image.flip_up_down(image)\n",
    "\n",
    "        image = tf.image.central_crop(image, central_fraction=0.5)\n",
    "\n",
    "        # Get an image tensor and print its value.\n",
    "        image_array = sess.run(image)\n",
    "        print image_array.shape\n",
    "\n",
    "        # Converts a numpy array of the kind (224, 224, 3) to a Tensor of shape (224, 224, 3)\n",
    "        image_tensor = tf.stack(image_array)\n",
    "\n",
    "        print image_tensor\n",
    "        image_list.append(image_tensor)\n",
    "\n",
    "    # Finish off the filename queue coordinator.\n",
    "    coord.request_stop()\n",
    "    coord.join(threads)\n",
    "    \n",
    "    # Converts all tensors to a single tensor with a 4th dimension\n",
    "    # 4 images of (224, 224, 3) can be accessed as (0, 224, 224, 3),\n",
    "    # (1, 224, 224, 3), (2, 224, 224, 3) etc.\n",
    "    images_tensor = tf.stack(image_list)\n",
    "    print images_tensor\n",
    "\n",
    "    index = 0\n",
    "\n",
    "    # Write image summary\n",
    "    summary_writer = tf.summary.FileWriter('./ImageTransformationsWithCoordinator', graph=sess.graph)\n",
    "\n",
    "    # Write out all the images in one go\n",
    "    summary_str = sess.run(tf.summary.image(\"images\", images_tensor))\n",
    "    summary_writer.add_summary(summary_str)\n",
    "\n",
    "    summary_writer.close()"
   ]
  },
  {
   "cell_type": "code",
   "execution_count": null,
   "metadata": {},
   "outputs": [],
   "source": [
    "tensorboard_pid = ml.TensorBoard.start('./ImageTransformationsWithCoordinator')"
   ]
  },
  {
   "cell_type": "code",
   "execution_count": null,
   "metadata": {},
   "outputs": [],
   "source": [
    "ml.TensorBoard.stop(tensorboard_pid)"
   ]
  }
 ],
 "metadata": {
  "kernelspec": {
   "display_name": "Python 3",
   "language": "python",
   "name": "python3"
  },
  "language_info": {
   "codemirror_mode": {
    "name": "ipython",
    "version": 3
   },
   "file_extension": ".py",
   "mimetype": "text/x-python",
   "name": "python",
   "nbconvert_exporter": "python",
   "pygments_lexer": "ipython3",
   "version": "3.7.1"
  }
 },
 "nbformat": 4,
 "nbformat_minor": 2
}
