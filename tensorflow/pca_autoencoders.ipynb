{
 "cells": [
  {
   "cell_type": "code",
   "execution_count": 1,
   "metadata": {
    "collapsed": true
   },
   "outputs": [],
   "source": [
    "from __future__ import absolute_import\n",
    "from __future__ import division\n",
    "from __future__ import print_function"
   ]
  },
  {
   "cell_type": "code",
   "execution_count": 2,
   "metadata": {
    "collapsed": true
   },
   "outputs": [],
   "source": [
    "import numpy as np\n",
    "import pandas as pd\n",
    "import tensorflow as tf"
   ]
  },
  {
   "cell_type": "code",
   "execution_count": 3,
   "metadata": {
    "collapsed": true
   },
   "outputs": [],
   "source": [
    "%matplotlib inline\n",
    "\n",
    "import matplotlib\n",
    "import matplotlib.pyplot as plt\n",
    "\n",
    "from matplotlib.mlab import PCA"
   ]
  },
  {
   "cell_type": "code",
   "execution_count": 4,
   "metadata": {
    "collapsed": false
   },
   "outputs": [
    {
     "name": "stdout",
     "output_type": "stream",
     "text": [
      "1.4.1\n",
      "1.13.3\n",
      "0.20.1\n",
      "2.0.2\n"
     ]
    }
   ],
   "source": [
    "print(tf.__version__)\n",
    "print(np.__version__)\n",
    "print(pd.__version__)\n",
    "print(matplotlib.__version__)"
   ]
  },
  {
   "cell_type": "code",
   "execution_count": 5,
   "metadata": {
    "collapsed": true
   },
   "outputs": [],
   "source": [
    "prices = pd.read_csv('stocks.csv')"
   ]
  },
  {
   "cell_type": "code",
   "execution_count": 6,
   "metadata": {
    "collapsed": false
   },
   "outputs": [
    {
     "data": {
      "text/html": [
       "<div>\n",
       "<style>\n",
       "    .dataframe thead tr:only-child th {\n",
       "        text-align: right;\n",
       "    }\n",
       "\n",
       "    .dataframe thead th {\n",
       "        text-align: left;\n",
       "    }\n",
       "\n",
       "    .dataframe tbody tr th {\n",
       "        vertical-align: top;\n",
       "    }\n",
       "</style>\n",
       "<table border=\"1\" class=\"dataframe\">\n",
       "  <thead>\n",
       "    <tr style=\"text-align: right;\">\n",
       "      <th></th>\n",
       "      <th>Date</th>\n",
       "      <th>ADBE</th>\n",
       "      <th>CVX</th>\n",
       "      <th>MDLZ</th>\n",
       "      <th>NFLX</th>\n",
       "      <th>ORCL</th>\n",
       "      <th>SBUX</th>\n",
       "    </tr>\n",
       "  </thead>\n",
       "  <tbody>\n",
       "    <tr>\n",
       "      <th>0</th>\n",
       "      <td>3-Jan-17</td>\n",
       "      <td>113.820000</td>\n",
       "      <td>110.759811</td>\n",
       "      <td>44.430000</td>\n",
       "      <td>141.220001</td>\n",
       "      <td>40.230000</td>\n",
       "      <td>55.649239</td>\n",
       "    </tr>\n",
       "    <tr>\n",
       "      <th>1</th>\n",
       "      <td>1-Dec-16</td>\n",
       "      <td>102.949997</td>\n",
       "      <td>116.584061</td>\n",
       "      <td>44.330002</td>\n",
       "      <td>123.800003</td>\n",
       "      <td>38.299999</td>\n",
       "      <td>55.270943</td>\n",
       "    </tr>\n",
       "    <tr>\n",
       "      <th>2</th>\n",
       "      <td>1-Nov-16</td>\n",
       "      <td>102.809998</td>\n",
       "      <td>110.502274</td>\n",
       "      <td>41.066032</td>\n",
       "      <td>117.000000</td>\n",
       "      <td>40.033211</td>\n",
       "      <td>57.709953</td>\n",
       "    </tr>\n",
       "    <tr>\n",
       "      <th>3</th>\n",
       "      <td>3-Oct-16</td>\n",
       "      <td>107.510002</td>\n",
       "      <td>102.728424</td>\n",
       "      <td>44.750420</td>\n",
       "      <td>124.870003</td>\n",
       "      <td>38.270115</td>\n",
       "      <td>52.588333</td>\n",
       "    </tr>\n",
       "    <tr>\n",
       "      <th>4</th>\n",
       "      <td>1-Sep-16</td>\n",
       "      <td>108.540001</td>\n",
       "      <td>100.933739</td>\n",
       "      <td>43.714809</td>\n",
       "      <td>98.550003</td>\n",
       "      <td>38.975769</td>\n",
       "      <td>53.648621</td>\n",
       "    </tr>\n",
       "  </tbody>\n",
       "</table>\n",
       "</div>"
      ],
      "text/plain": [
       "       Date        ADBE         CVX       MDLZ        NFLX       ORCL  \\\n",
       "0  3-Jan-17  113.820000  110.759811  44.430000  141.220001  40.230000   \n",
       "1  1-Dec-16  102.949997  116.584061  44.330002  123.800003  38.299999   \n",
       "2  1-Nov-16  102.809998  110.502274  41.066032  117.000000  40.033211   \n",
       "3  3-Oct-16  107.510002  102.728424  44.750420  124.870003  38.270115   \n",
       "4  1-Sep-16  108.540001  100.933739  43.714809   98.550003  38.975769   \n",
       "\n",
       "        SBUX  \n",
       "0  55.649239  \n",
       "1  55.270943  \n",
       "2  57.709953  \n",
       "3  52.588333  \n",
       "4  53.648621  "
      ]
     },
     "execution_count": 6,
     "metadata": {},
     "output_type": "execute_result"
    }
   ],
   "source": [
    "prices.head()"
   ]
  },
  {
   "cell_type": "code",
   "execution_count": 7,
   "metadata": {
    "collapsed": true
   },
   "outputs": [],
   "source": [
    "prices['Date'] = pd.to_datetime(prices['Date'], infer_datetime_format=True)"
   ]
  },
  {
   "cell_type": "code",
   "execution_count": 8,
   "metadata": {
    "collapsed": true
   },
   "outputs": [],
   "source": [
    "prices = prices.sort_values(['Date'], ascending=[True])"
   ]
  },
  {
   "cell_type": "code",
   "execution_count": 9,
   "metadata": {
    "collapsed": false
   },
   "outputs": [
    {
     "data": {
      "text/html": [
       "<div>\n",
       "<style>\n",
       "    .dataframe thead tr:only-child th {\n",
       "        text-align: right;\n",
       "    }\n",
       "\n",
       "    .dataframe thead th {\n",
       "        text-align: left;\n",
       "    }\n",
       "\n",
       "    .dataframe tbody tr th {\n",
       "        vertical-align: top;\n",
       "    }\n",
       "</style>\n",
       "<table border=\"1\" class=\"dataframe\">\n",
       "  <thead>\n",
       "    <tr style=\"text-align: right;\">\n",
       "      <th></th>\n",
       "      <th>Date</th>\n",
       "      <th>ADBE</th>\n",
       "      <th>CVX</th>\n",
       "      <th>MDLZ</th>\n",
       "      <th>NFLX</th>\n",
       "      <th>ORCL</th>\n",
       "      <th>SBUX</th>\n",
       "    </tr>\n",
       "  </thead>\n",
       "  <tbody>\n",
       "    <tr>\n",
       "      <th>120</th>\n",
       "      <td>2007-01-03</td>\n",
       "      <td>38.869999</td>\n",
       "      <td>50.777351</td>\n",
       "      <td>17.519524</td>\n",
       "      <td>3.258571</td>\n",
       "      <td>15.696321</td>\n",
       "      <td>15.752188</td>\n",
       "    </tr>\n",
       "    <tr>\n",
       "      <th>119</th>\n",
       "      <td>2007-02-01</td>\n",
       "      <td>39.250000</td>\n",
       "      <td>48.082939</td>\n",
       "      <td>16.019426</td>\n",
       "      <td>3.218571</td>\n",
       "      <td>15.028588</td>\n",
       "      <td>13.930813</td>\n",
       "    </tr>\n",
       "    <tr>\n",
       "      <th>118</th>\n",
       "      <td>2007-03-01</td>\n",
       "      <td>41.700001</td>\n",
       "      <td>51.900383</td>\n",
       "      <td>16.009354</td>\n",
       "      <td>3.312857</td>\n",
       "      <td>16.583584</td>\n",
       "      <td>14.138198</td>\n",
       "    </tr>\n",
       "    <tr>\n",
       "      <th>117</th>\n",
       "      <td>2007-04-02</td>\n",
       "      <td>41.560001</td>\n",
       "      <td>54.588032</td>\n",
       "      <td>16.924608</td>\n",
       "      <td>3.167143</td>\n",
       "      <td>17.196436</td>\n",
       "      <td>13.984914</td>\n",
       "    </tr>\n",
       "    <tr>\n",
       "      <th>116</th>\n",
       "      <td>2007-05-01</td>\n",
       "      <td>44.060001</td>\n",
       "      <td>57.598267</td>\n",
       "      <td>17.111704</td>\n",
       "      <td>3.128572</td>\n",
       "      <td>17.726965</td>\n",
       "      <td>12.988567</td>\n",
       "    </tr>\n",
       "  </tbody>\n",
       "</table>\n",
       "</div>"
      ],
      "text/plain": [
       "          Date       ADBE        CVX       MDLZ      NFLX       ORCL  \\\n",
       "120 2007-01-03  38.869999  50.777351  17.519524  3.258571  15.696321   \n",
       "119 2007-02-01  39.250000  48.082939  16.019426  3.218571  15.028588   \n",
       "118 2007-03-01  41.700001  51.900383  16.009354  3.312857  16.583584   \n",
       "117 2007-04-02  41.560001  54.588032  16.924608  3.167143  17.196436   \n",
       "116 2007-05-01  44.060001  57.598267  17.111704  3.128572  17.726965   \n",
       "\n",
       "          SBUX  \n",
       "120  15.752188  \n",
       "119  13.930813  \n",
       "118  14.138198  \n",
       "117  13.984914  \n",
       "116  12.988567  "
      ]
     },
     "execution_count": 9,
     "metadata": {},
     "output_type": "execute_result"
    }
   ],
   "source": [
    "prices.head()"
   ]
  },
  {
   "cell_type": "code",
   "execution_count": 11,
   "metadata": {
    "collapsed": true
   },
   "outputs": [],
   "source": [
    "prices = prices[['ADBE', 'MDLZ', 'SBUX']]"
   ]
  },
  {
   "cell_type": "code",
   "execution_count": 12,
   "metadata": {
    "collapsed": false
   },
   "outputs": [
    {
     "data": {
      "text/html": [
       "<div>\n",
       "<style>\n",
       "    .dataframe thead tr:only-child th {\n",
       "        text-align: right;\n",
       "    }\n",
       "\n",
       "    .dataframe thead th {\n",
       "        text-align: left;\n",
       "    }\n",
       "\n",
       "    .dataframe tbody tr th {\n",
       "        vertical-align: top;\n",
       "    }\n",
       "</style>\n",
       "<table border=\"1\" class=\"dataframe\">\n",
       "  <thead>\n",
       "    <tr style=\"text-align: right;\">\n",
       "      <th></th>\n",
       "      <th>ADBE</th>\n",
       "      <th>MDLZ</th>\n",
       "      <th>SBUX</th>\n",
       "    </tr>\n",
       "  </thead>\n",
       "  <tbody>\n",
       "    <tr>\n",
       "      <th>120</th>\n",
       "      <td>38.869999</td>\n",
       "      <td>17.519524</td>\n",
       "      <td>15.752188</td>\n",
       "    </tr>\n",
       "    <tr>\n",
       "      <th>119</th>\n",
       "      <td>39.250000</td>\n",
       "      <td>16.019426</td>\n",
       "      <td>13.930813</td>\n",
       "    </tr>\n",
       "    <tr>\n",
       "      <th>118</th>\n",
       "      <td>41.700001</td>\n",
       "      <td>16.009354</td>\n",
       "      <td>14.138198</td>\n",
       "    </tr>\n",
       "    <tr>\n",
       "      <th>117</th>\n",
       "      <td>41.560001</td>\n",
       "      <td>16.924608</td>\n",
       "      <td>13.984914</td>\n",
       "    </tr>\n",
       "    <tr>\n",
       "      <th>116</th>\n",
       "      <td>44.060001</td>\n",
       "      <td>17.111704</td>\n",
       "      <td>12.988567</td>\n",
       "    </tr>\n",
       "  </tbody>\n",
       "</table>\n",
       "</div>"
      ],
      "text/plain": [
       "          ADBE       MDLZ       SBUX\n",
       "120  38.869999  17.519524  15.752188\n",
       "119  39.250000  16.019426  13.930813\n",
       "118  41.700001  16.009354  14.138198\n",
       "117  41.560001  16.924608  13.984914\n",
       "116  44.060001  17.111704  12.988567"
      ]
     },
     "execution_count": 12,
     "metadata": {},
     "output_type": "execute_result"
    }
   ],
   "source": [
    "prices.head()"
   ]
  },
  {
   "cell_type": "code",
   "execution_count": 13,
   "metadata": {
    "collapsed": true
   },
   "outputs": [],
   "source": [
    "returns = prices[[key for key in dict(prices.dtypes) \\\n",
    "    if dict(prices.dtypes)[key] in ['float64', 'int64']]].pct_change()"
   ]
  },
  {
   "cell_type": "code",
   "execution_count": 14,
   "metadata": {
    "collapsed": true
   },
   "outputs": [],
   "source": [
    "returns = returns[1:]"
   ]
  },
  {
   "cell_type": "code",
   "execution_count": 15,
   "metadata": {
    "collapsed": false
   },
   "outputs": [
    {
     "data": {
      "text/html": [
       "<div>\n",
       "<style>\n",
       "    .dataframe thead tr:only-child th {\n",
       "        text-align: right;\n",
       "    }\n",
       "\n",
       "    .dataframe thead th {\n",
       "        text-align: left;\n",
       "    }\n",
       "\n",
       "    .dataframe tbody tr th {\n",
       "        vertical-align: top;\n",
       "    }\n",
       "</style>\n",
       "<table border=\"1\" class=\"dataframe\">\n",
       "  <thead>\n",
       "    <tr style=\"text-align: right;\">\n",
       "      <th></th>\n",
       "      <th>SBUX</th>\n",
       "      <th>MDLZ</th>\n",
       "      <th>ADBE</th>\n",
       "    </tr>\n",
       "  </thead>\n",
       "  <tbody>\n",
       "    <tr>\n",
       "      <th>119</th>\n",
       "      <td>-0.115627</td>\n",
       "      <td>-0.085624</td>\n",
       "      <td>0.009776</td>\n",
       "    </tr>\n",
       "    <tr>\n",
       "      <th>118</th>\n",
       "      <td>0.014887</td>\n",
       "      <td>-0.000629</td>\n",
       "      <td>0.062420</td>\n",
       "    </tr>\n",
       "    <tr>\n",
       "      <th>117</th>\n",
       "      <td>-0.010842</td>\n",
       "      <td>0.057170</td>\n",
       "      <td>-0.003357</td>\n",
       "    </tr>\n",
       "    <tr>\n",
       "      <th>116</th>\n",
       "      <td>-0.071244</td>\n",
       "      <td>0.011055</td>\n",
       "      <td>0.060154</td>\n",
       "    </tr>\n",
       "    <tr>\n",
       "      <th>115</th>\n",
       "      <td>-0.089205</td>\n",
       "      <td>0.049031</td>\n",
       "      <td>-0.088743</td>\n",
       "    </tr>\n",
       "  </tbody>\n",
       "</table>\n",
       "</div>"
      ],
      "text/plain": [
       "         SBUX      MDLZ      ADBE\n",
       "119 -0.115627 -0.085624  0.009776\n",
       "118  0.014887 -0.000629  0.062420\n",
       "117 -0.010842  0.057170 -0.003357\n",
       "116 -0.071244  0.011055  0.060154\n",
       "115 -0.089205  0.049031 -0.088743"
      ]
     },
     "execution_count": 15,
     "metadata": {},
     "output_type": "execute_result"
    }
   ],
   "source": [
    "returns.head()"
   ]
  },
  {
   "cell_type": "code",
   "execution_count": 16,
   "metadata": {
    "collapsed": true
   },
   "outputs": [],
   "source": [
    "returns_arr = returns.as_matrix()[:10]"
   ]
  },
  {
   "cell_type": "code",
   "execution_count": 17,
   "metadata": {
    "collapsed": false
   },
   "outputs": [
    {
     "data": {
      "text/plain": [
       "(10, 3)"
      ]
     },
     "execution_count": 17,
     "metadata": {},
     "output_type": "execute_result"
    }
   ],
   "source": [
    "returns_arr.shape"
   ]
  },
  {
   "cell_type": "code",
   "execution_count": 18,
   "metadata": {
    "collapsed": true
   },
   "outputs": [],
   "source": [
    "from sklearn.preprocessing import StandardScaler\n",
    "scaler = StandardScaler()"
   ]
  },
  {
   "cell_type": "code",
   "execution_count": 19,
   "metadata": {
    "collapsed": true
   },
   "outputs": [],
   "source": [
    "returns_arr_scaled = scaler.fit_transform(returns_arr)"
   ]
  },
  {
   "cell_type": "code",
   "execution_count": 20,
   "metadata": {
    "collapsed": false
   },
   "outputs": [
    {
     "data": {
      "text/plain": [
       "array([[-1.3815757 , -1.66841975, -0.00794824],\n",
       "       [ 0.93127707, -0.06227426,  0.79937034],\n",
       "       [ 0.47533596,  1.02993615, -0.20935564],\n",
       "       [-0.59506817,  0.15850482,  0.76461402],\n",
       "       [-0.91335326,  0.87614265, -1.51877095],\n",
       "       [ 0.96462026, -1.39059372, -0.10439707],\n",
       "       [ 1.24532886, -0.44852127,  0.7784667 ],\n",
       "       [-0.20090235,  1.56355606,  0.16856723],\n",
       "       [ 0.99212851, -0.65272298,  1.33141124],\n",
       "       [-1.51779118,  0.59439231, -2.00195763]])"
      ]
     },
     "execution_count": 20,
     "metadata": {},
     "output_type": "execute_result"
    }
   ],
   "source": [
    "returns_arr_scaled"
   ]
  },
  {
   "cell_type": "code",
   "execution_count": 21,
   "metadata": {
    "collapsed": true
   },
   "outputs": [],
   "source": [
    "results = PCA(returns_arr_scaled, standardize=False)"
   ]
  },
  {
   "cell_type": "code",
   "execution_count": 22,
   "metadata": {
    "collapsed": false
   },
   "outputs": [
    {
     "data": {
      "text/plain": [
       "array([ 0.61673564,  0.2826719 ,  0.10059245])"
      ]
     },
     "execution_count": 22,
     "metadata": {},
     "output_type": "execute_result"
    }
   ],
   "source": [
    "results.fracs"
   ]
  },
  {
   "cell_type": "code",
   "execution_count": 23,
   "metadata": {
    "collapsed": false
   },
   "outputs": [
    {
     "data": {
      "text/plain": [
       "array([[-0.17991028,  2.07240494,  0.60432531],\n",
       "       [ 1.13763134, -0.46280938, -0.04183796],\n",
       "       [-0.2667366 , -1.08660301, -0.28051385],\n",
       "       [ 0.07215127, -0.01306041,  0.97902407],\n",
       "       [-1.93968973, -0.15745777, -0.34830467],\n",
       "       [ 1.10422729,  0.85352113, -0.96297751],\n",
       "       [ 1.47847086, -0.24640766, -0.33381563],\n",
       "       [-0.6566515 , -1.33920141,  0.53743148],\n",
       "       [ 1.77228548, -0.04546335,  0.1998985 ],\n",
       "       [-2.52177814,  0.4250769 , -0.35322975]])"
      ]
     },
     "execution_count": 23,
     "metadata": {},
     "output_type": "execute_result"
    }
   ],
   "source": [
    "results.Y "
   ]
  },
  {
   "cell_type": "code",
   "execution_count": 24,
   "metadata": {
    "collapsed": false
   },
   "outputs": [
    {
     "data": {
      "text/plain": [
       "array([[ 0.6233919 , -0.41154938,  0.66483807],\n",
       "       [-0.42026022, -0.89337244, -0.15895609],\n",
       "       [-0.65936628,  0.18031306,  0.72987897]])"
      ]
     },
     "execution_count": 24,
     "metadata": {},
     "output_type": "execute_result"
    }
   ],
   "source": [
    "results.Wt"
   ]
  },
  {
   "cell_type": "code",
   "execution_count": 25,
   "metadata": {
    "collapsed": false
   },
   "outputs": [
    {
     "data": {
      "text/plain": [
       "array([[-1.3815757 , -1.66841975, -0.00794824],\n",
       "       [ 0.93127707, -0.06227426,  0.79937034],\n",
       "       [ 0.47533596,  1.02993615, -0.20935564],\n",
       "       [-0.59506817,  0.15850482,  0.76461402],\n",
       "       [-0.91335326,  0.87614265, -1.51877095],\n",
       "       [ 0.96462026, -1.39059372, -0.10439707],\n",
       "       [ 1.24532886, -0.44852127,  0.7784667 ],\n",
       "       [-0.20090235,  1.56355606,  0.16856723],\n",
       "       [ 0.99212851, -0.65272298,  1.33141124],\n",
       "       [-1.51779118,  0.59439231, -2.00195763]])"
      ]
     },
     "execution_count": 25,
     "metadata": {},
     "output_type": "execute_result"
    }
   ],
   "source": [
    "np.dot(results.Y, results.Wt)"
   ]
  },
  {
   "cell_type": "code",
   "execution_count": 26,
   "metadata": {
    "collapsed": false
   },
   "outputs": [
    {
     "data": {
      "text/plain": [
       "array([[-1.3815757 , -1.66841975, -0.00794824],\n",
       "       [ 0.93127707, -0.06227426,  0.79937034],\n",
       "       [ 0.47533596,  1.02993615, -0.20935564],\n",
       "       [-0.59506817,  0.15850482,  0.76461402],\n",
       "       [-0.91335326,  0.87614265, -1.51877095],\n",
       "       [ 0.96462026, -1.39059372, -0.10439707],\n",
       "       [ 1.24532886, -0.44852127,  0.7784667 ],\n",
       "       [-0.20090235,  1.56355606,  0.16856723],\n",
       "       [ 0.99212851, -0.65272298,  1.33141124],\n",
       "       [-1.51779118,  0.59439231, -2.00195763]])"
      ]
     },
     "execution_count": 26,
     "metadata": {},
     "output_type": "execute_result"
    }
   ],
   "source": [
    "returns_arr_scaled"
   ]
  },
  {
   "cell_type": "code",
   "execution_count": 27,
   "metadata": {
    "collapsed": true
   },
   "outputs": [],
   "source": [
    "n_inputs = 3\n",
    "n_hidden = 2  # codings\n",
    "n_outputs = n_inputs"
   ]
  },
  {
   "cell_type": "code",
   "execution_count": 28,
   "metadata": {
    "collapsed": true
   },
   "outputs": [],
   "source": [
    "learning_rate = 0.01"
   ]
  },
  {
   "cell_type": "code",
   "execution_count": 29,
   "metadata": {
    "collapsed": true
   },
   "outputs": [],
   "source": [
    "tf.reset_default_graph()"
   ]
  },
  {
   "cell_type": "code",
   "execution_count": 30,
   "metadata": {
    "collapsed": true
   },
   "outputs": [],
   "source": [
    "X = tf.placeholder(tf.float32, shape=[None, n_inputs])"
   ]
  },
  {
   "cell_type": "code",
   "execution_count": 31,
   "metadata": {
    "collapsed": true
   },
   "outputs": [],
   "source": [
    "hidden = tf.layers.dense(X, n_hidden)"
   ]
  },
  {
   "cell_type": "code",
   "execution_count": 32,
   "metadata": {
    "collapsed": true
   },
   "outputs": [],
   "source": [
    "outputs = tf.layers.dense(hidden, n_outputs)"
   ]
  },
  {
   "cell_type": "code",
   "execution_count": 33,
   "metadata": {
    "collapsed": true
   },
   "outputs": [],
   "source": [
    "reconstruction_loss = tf.reduce_mean(tf.square(outputs - X))"
   ]
  },
  {
   "cell_type": "code",
   "execution_count": 34,
   "metadata": {
    "collapsed": true
   },
   "outputs": [],
   "source": [
    "optimizer = tf.train.AdamOptimizer(learning_rate)\n",
    "training_op = optimizer.minimize(reconstruction_loss)"
   ]
  },
  {
   "cell_type": "code",
   "execution_count": 35,
   "metadata": {
    "collapsed": true
   },
   "outputs": [],
   "source": [
    "init = tf.global_variables_initializer()"
   ]
  },
  {
   "cell_type": "code",
   "execution_count": 36,
   "metadata": {
    "collapsed": true
   },
   "outputs": [],
   "source": [
    "n_iterations = 10000"
   ]
  },
  {
   "cell_type": "code",
   "execution_count": 37,
   "metadata": {
    "collapsed": false
   },
   "outputs": [
    {
     "name": "stdout",
     "output_type": "stream",
     "text": [
      "[[-0.98150289 -1.77904904 -0.44743055]\n",
      " [ 0.90408623 -0.05467882  0.83026832]\n",
      " [ 0.28890061  1.08167148 -0.00606127]\n",
      " [ 0.05027498 -0.0179458   0.04986156]\n",
      " [-1.14511693  0.93994194 -1.26656651]\n",
      " [ 0.33134007 -1.21805727  0.60008794]\n",
      " [ 1.0261507  -0.38860524  1.02298927]\n",
      " [ 0.15135062  1.46818554 -0.22575612]\n",
      " [ 1.12529922 -0.6893332   1.18681109]\n",
      " [-1.75277281  0.6587956  -1.74611008]]\n"
     ]
    }
   ],
   "source": [
    "with tf.Session() as sess:\n",
    "    init.run()\n",
    "\n",
    "    for iteration in range(n_iterations):\n",
    "        training_op.run(feed_dict={X: returns_arr_scaled})\n",
    "    \n",
    "    outputs_val = outputs.eval(feed_dict={X: returns_arr_scaled})\n",
    "    print(outputs_val)"
   ]
  },
  {
   "cell_type": "code",
   "execution_count": 38,
   "metadata": {
    "collapsed": false
   },
   "outputs": [
    {
     "data": {
      "text/plain": [
       "array([[-0.98310396, -1.77738749, -0.44903258],\n",
       "       [ 0.90369053, -0.05473033,  0.82990699],\n",
       "       [ 0.29037459,  1.08051646, -0.00461448],\n",
       "       [ 0.05046729, -0.01802601,  0.05004494],\n",
       "       [-1.14301362,  0.93894653, -1.2645507 ],\n",
       "       [ 0.32966536, -1.21695631,  0.59845995],\n",
       "       [ 1.02522209, -0.38832995,  1.0221117 ],\n",
       "       [ 0.15346185,  1.46665014, -0.2236927 ],\n",
       "       [ 1.12393484, -0.68876729,  1.18550953],\n",
       "       [-1.75069897,  0.65808424, -1.74414266]])"
      ]
     },
     "execution_count": 38,
     "metadata": {},
     "output_type": "execute_result"
    }
   ],
   "source": [
    "np.dot(results.Y[:,[0,1]], results.Wt[[0,1]])"
   ]
  },
  {
   "cell_type": "code",
   "execution_count": null,
   "metadata": {
    "collapsed": true
   },
   "outputs": [],
   "source": []
  },
  {
   "cell_type": "code",
   "execution_count": null,
   "metadata": {
    "collapsed": true
   },
   "outputs": [],
   "source": []
  },
  {
   "cell_type": "code",
   "execution_count": null,
   "metadata": {
    "collapsed": true
   },
   "outputs": [],
   "source": []
  }
 ],
 "metadata": {
  "kernelspec": {
   "display_name": "Python 2",
   "language": "python",
   "name": "python2"
  },
  "language_info": {
   "codemirror_mode": {
    "name": "ipython",
    "version": 2
   },
   "file_extension": ".py",
   "mimetype": "text/x-python",
   "name": "python",
   "nbconvert_exporter": "python",
   "pygments_lexer": "ipython2",
   "version": "2.7.11"
  }
 },
 "nbformat": 4,
 "nbformat_minor": 2
}
